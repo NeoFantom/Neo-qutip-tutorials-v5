{
 "cells": [
  {
   "cell_type": "markdown",
   "id": "1c73d196",
   "metadata": {},
   "source": [
    "# Bloch-Redfield Solver: Time dependent operators\n",
    "\n",
    "Authors: C. Staufenbiel, 2022\n",
    "\n",
    "following the instructions in the [Bloch-Redfield documentation](https://qutip.org/docs/latest/guide/dynamics/dynamics-bloch-redfield.html?#time-dependent-bloch-redfield-dynamics).\n",
    "\n",
    "### Introduction\n",
    "This notebook introduces the usage of time-dependent operators in the Bloch-Redfield solver, which is also described in the [corresponding documentation](https://qutip.org/docs/latest/guide/dynamics/dynamics-bloch-redfield.html?#time-dependent-bloch-redfield-dynamics).\n",
    "\n",
    "We will discuss time-dependent Hamiltonians and time-dependent dissipations.\n",
    "\n",
    "### Imports"
   ]
  },
  {
   "cell_type": "code",
   "execution_count": null,
   "id": "b33d87e1",
   "metadata": {},
   "outputs": [],
   "source": [
    "import numpy as np\n",
    "from qutip import about, basis, brmesolve, destroy, plot_expectation_values\n",
    "\n",
    "%matplotlib inline"
   ]
  },
  {
   "cell_type": "markdown",
   "id": "fe1e2b67",
   "metadata": {},
   "source": [
    "For our small example, we setup a system with `N` states and the number operator as Hamiltonian. We can observe that for the constant Hamiltonian and no given `a_ops` the expectation value $\\langle n \\rangle $ is a constant."
   ]
  },
  {
   "cell_type": "code",
   "execution_count": null,
   "id": "82fdcff4",
   "metadata": {},
   "outputs": [],
   "source": [
    "# num modes\n",
    "N = 2\n",
    "# Hamiltonian\n",
    "a = destroy(N)\n",
    "H = a.dag() * a\n",
    "\n",
    "# initial state\n",
    "psi0 = basis(N, N - 1)\n",
    "\n",
    "# times for simulation\n",
    "times = np.linspace(0, 10, 100)\n",
    "\n",
    "# solve using brmesolve\n",
    "result_const = brmesolve(H, psi0, times, e_ops=[a.dag() * a])"
   ]
  },
  {
   "cell_type": "code",
   "execution_count": null,
   "id": "e5c1d46a",
   "metadata": {},
   "outputs": [],
   "source": [
    "plot_expectation_values(result_const, ylabels=[\"<n>\"]);"
   ]
  },
  {
   "cell_type": "markdown",
   "id": "f5fbae01",
   "metadata": {},
   "source": [
    "Next we define a string, which describes some time-dependence. We can use functions that are supported by the Cython implementation. A list of all supported functions can be found in the  [docs](https://qutip.org/docs/latest/guide/dynamics/dynamics-time.html#time). For example, supported functions are `sin` or `exp`. The time variable is denoted by `t`."
   ]
  },
  {
   "cell_type": "code",
   "execution_count": null,
   "id": "165d45c1",
   "metadata": {},
   "outputs": [],
   "source": [
    "time_dependence = \"sin(t)\""
   ]
  },
  {
   "cell_type": "markdown",
   "id": "c8f97419",
   "metadata": {},
   "source": [
    "### Time-dependent Hamiltonian\n",
    "\n",
    "As a first example, we define a time-dependent Hamiltonian (as described [here](https://qutip.org/docs/latest/guide/dynamics/dynamics-time.html)). \n",
    "\n",
    "$$ H = \\hat{n} + sin(t) \\hat{x} $$\n",
    "\n",
    "Again, we can solve the dynamics using `brmesolve()`."
   ]
  },
  {
   "cell_type": "code",
   "execution_count": null,
   "id": "cd7d80c9",
   "metadata": {},
   "outputs": [],
   "source": [
    "H_t = [H, [a + a.dag(), time_dependence]]\n",
    "result_brme = brmesolve(H_t, psi0, times, e_ops=[a.dag() * a])\n",
    "plot_expectation_values(result_brme, ylabels=[\"<n>\"]);"
   ]
  },
  {
   "cell_type": "markdown",
   "id": "fb473049",
   "metadata": {},
   "source": [
    "### Time-dependent dissipation\n",
    "\n",
    "Above we did not use the noise-power-spectrum, which the Bloch-Redfield solver is mainly used for. This spectrum is passed in the argument `a_ops`. We can also add a string-based time dependence to `a_ops` and thereby make the dissipation itself time-dependent. \n",
    "\n",
    "Here we will define a a noice power spectrum of the form:\n",
    "\n",
    "$$ J(\\omega, t) = \\kappa * e^{-t} \\quad \\text{for} \\; \\omega \\geq 0$$"
   ]
  },
  {
   "cell_type": "code",
   "execution_count": null,
   "id": "659d96a5",
   "metadata": {},
   "outputs": [],
   "source": [
    "# setup dissipation\n",
    "kappa = 0.2\n",
    "a_ops = [[a + a.dag(), \"{kappa}*exp(-t)*(w>=0)\".format(kappa=kappa)]]\n",
    "\n",
    "# solve\n",
    "result_brme_aops = brmesolve(H, psi0, times, a_ops, e_ops=[a.dag() * a])\n",
    "\n",
    "plot_expectation_values([result_brme_aops], ylabels=[\"<n>\"]);"
   ]
  },
  {
   "cell_type": "markdown",
   "id": "1bf7c485",
   "metadata": {},
   "source": [
    "The coupling to the bath is sometimes described by operators of the form\n",
    "\n",
    "$$ A = f(t)a + f(t)^* a^\\dagger $$\n",
    "\n",
    "To add such a coupling to `brmesolve` we can pass tuple in the `a_ops` argument. For example if we have $f(t) = e^{i * t}$ we can define the coupling of operator $A$ with strength $\\kappa$ by the following `a_ops`. Note that the second function needs to be the complex conjugate of the first function and the second operator the hermitian conjugate of the first operator."
   ]
  },
  {
   "cell_type": "code",
   "execution_count": null,
   "id": "1305ae57",
   "metadata": {},
   "outputs": [],
   "source": [
    "a_ops = [([[a, 'exp(1j*t)'], [a.dag(), 'exp(-1j*t)']],\n",
    "          f'{kappa} * (w >= 0)')]\n",
    "\n",
    "# solve using brmesolve and plot expecation\n",
    "result_brme_aops_sum = brmesolve(H, psi0, times, a_ops, e_ops=[a.dag() * a])\n",
    "plot_expectation_values([result_brme_aops_sum], ylabels=[\"<n>\"]);"
   ]
  },
  {
   "cell_type": "markdown",
   "id": "cd930934",
   "metadata": {},
   "source": [
    "### About"
   ]
  },
  {
   "cell_type": "code",
   "execution_count": null,
   "id": "d5ede7f9",
   "metadata": {},
   "outputs": [],
   "source": [
    "about()"
   ]
  },
  {
   "cell_type": "markdown",
   "id": "4a5d305b",
   "metadata": {},
   "source": [
    "### Testing"
   ]
  },
  {
   "cell_type": "code",
   "execution_count": null,
   "id": "6335f0b3",
   "metadata": {},
   "outputs": [],
   "source": [
    "assert np.allclose(result_const.expect[0], 1.0)\n",
    "\n",
    "# compare result from brme with a_ops to analytic solution\n",
    "analytic_aops = (N - 1) * np.exp(-kappa * (1.0 - np.exp(-times)))\n",
    "assert np.allclose(result_brme_aops.expect[0], analytic_aops)\n",
    "\n",
    "assert np.all(np.diff(result_brme_aops_sum.expect[0]) <= 0.0)"
   ]
  }
 ],
 "metadata": {
  "kernelspec": {
   "display_name": "Python 3 (ipykernel)",
   "language": "python",
   "name": "python3"
  }
 },
 "nbformat": 4,
 "nbformat_minor": 5
}
